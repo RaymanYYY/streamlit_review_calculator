{
 "cells": [
  {
   "cell_type": "code",
   "execution_count": null,
   "id": "54acc7cd",
   "metadata": {},
   "outputs": [],
   "source": [
    "import numpy as np\n",
    "import pandas as pd\n",
    "import datetime\n",
    "\n",
    "bonus_t = pd.DataFrame({\n",
    "    '1p': [0.65,0.75,0.8,0.9,0.9], \n",
    "    '2p': [0.9,1.05,1.15,1.25,1.25],\n",
    "    '3p': [1.3,1.5,1.6,1.8,1.8],\n",
    "    '4p': [1.85,2.1,2.25,2.25,2.25,]\n",
    "},index=[14,15,16,17,18])"
   ]
  },
  {
   "cell_type": "code",
   "execution_count": null,
   "id": "82143746",
   "metadata": {},
   "outputs": [],
   "source": [
    "bonus_t"
   ]
  },
  {
   "cell_type": "code",
   "execution_count": null,
   "id": "dfa4b0fd",
   "metadata": {},
   "outputs": [],
   "source": [
    "grade = 15\n",
    "\n",
    "salary = 150000\n",
    "\n",
    "assessment = '3p'\n",
    "\n",
    "bonus_t.loc[grade,assessment]"
   ]
  },
  {
   "cell_type": "code",
   "execution_count": null,
   "id": "32ab72ba",
   "metadata": {},
   "outputs": [],
   "source": [
    "def rub(x):\n",
    "    return \"{:,.0f} ₽\".format(x)\n",
    "rub(123456.78)\n"
   ]
  }
 ],
 "metadata": {
  "kernelspec": {
   "display_name": "Python 3",
   "language": "python",
   "name": "python3"
  },
  "language_info": {
   "codemirror_mode": {
    "name": "ipython",
    "version": 3
   },
   "file_extension": ".py",
   "mimetype": "text/x-python",
   "name": "python",
   "nbconvert_exporter": "python",
   "pygments_lexer": "ipython3",
   "version": "3.8.8"
  }
 },
 "nbformat": 4,
 "nbformat_minor": 5
}
