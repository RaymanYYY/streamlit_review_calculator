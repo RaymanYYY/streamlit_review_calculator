{
 "cells": [
  {
   "cell_type": "code",
   "execution_count": 4,
   "id": "54acc7cd",
   "metadata": {},
   "outputs": [],
   "source": [
    "import numpy as np\n",
    "import pandas as pd\n",
    "import datetime\n",
    "\n",
    "bonus_t = pd.DataFrame({\n",
    "    '1p': [0.65,0.75,0.8,0.9,0.9], \n",
    "    '2p': [0.9,1.05,1.15,1.25,1.25],\n",
    "    '3p': [1.3,1.5,1.6,1.8,1.8],\n",
    "    '4p': [1.85,2.1,2.25,2.25,2.25,]\n",
    "},index=[14,15,16,17,18])"
   ]
  },
  {
   "cell_type": "code",
   "execution_count": 7,
   "id": "82143746",
   "metadata": {},
   "outputs": [
    {
     "data": {
      "text/html": [
       "<div>\n",
       "<style scoped>\n",
       "    .dataframe tbody tr th:only-of-type {\n",
       "        vertical-align: middle;\n",
       "    }\n",
       "\n",
       "    .dataframe tbody tr th {\n",
       "        vertical-align: top;\n",
       "    }\n",
       "\n",
       "    .dataframe thead th {\n",
       "        text-align: right;\n",
       "    }\n",
       "</style>\n",
       "<table border=\"1\" class=\"dataframe\">\n",
       "  <thead>\n",
       "    <tr style=\"text-align: right;\">\n",
       "      <th></th>\n",
       "      <th>1p</th>\n",
       "      <th>2p</th>\n",
       "      <th>3p</th>\n",
       "      <th>4p</th>\n",
       "    </tr>\n",
       "  </thead>\n",
       "  <tbody>\n",
       "    <tr>\n",
       "      <th>14</th>\n",
       "      <td>0.65</td>\n",
       "      <td>0.90</td>\n",
       "      <td>1.3</td>\n",
       "      <td>1.85</td>\n",
       "    </tr>\n",
       "    <tr>\n",
       "      <th>15</th>\n",
       "      <td>0.75</td>\n",
       "      <td>1.05</td>\n",
       "      <td>1.5</td>\n",
       "      <td>2.10</td>\n",
       "    </tr>\n",
       "    <tr>\n",
       "      <th>16</th>\n",
       "      <td>0.80</td>\n",
       "      <td>1.15</td>\n",
       "      <td>1.6</td>\n",
       "      <td>2.25</td>\n",
       "    </tr>\n",
       "    <tr>\n",
       "      <th>17</th>\n",
       "      <td>0.90</td>\n",
       "      <td>1.25</td>\n",
       "      <td>1.8</td>\n",
       "      <td>2.25</td>\n",
       "    </tr>\n",
       "    <tr>\n",
       "      <th>18</th>\n",
       "      <td>0.90</td>\n",
       "      <td>1.25</td>\n",
       "      <td>1.8</td>\n",
       "      <td>2.25</td>\n",
       "    </tr>\n",
       "  </tbody>\n",
       "</table>\n",
       "</div>"
      ],
      "text/plain": [
       "      1p    2p   3p    4p\n",
       "14  0.65  0.90  1.3  1.85\n",
       "15  0.75  1.05  1.5  2.10\n",
       "16  0.80  1.15  1.6  2.25\n",
       "17  0.90  1.25  1.8  2.25\n",
       "18  0.90  1.25  1.8  2.25"
      ]
     },
     "execution_count": 7,
     "metadata": {},
     "output_type": "execute_result"
    }
   ],
   "source": [
    "bonus_t"
   ]
  },
  {
   "cell_type": "code",
   "execution_count": 9,
   "id": "dfa4b0fd",
   "metadata": {},
   "outputs": [
    {
     "data": {
      "text/plain": [
       "1.5"
      ]
     },
     "execution_count": 9,
     "metadata": {},
     "output_type": "execute_result"
    }
   ],
   "source": [
    "grade = 15\n",
    "\n",
    "salary = 150000\n",
    "\n",
    "assessment = '3p'\n",
    "\n",
    "bonus_t.loc[grade,assessment]"
   ]
  },
  {
   "cell_type": "code",
   "execution_count": 36,
   "id": "19763858",
   "metadata": {},
   "outputs": [
    {
     "data": {
      "text/plain": [
       "'123,456 rub'"
      ]
     },
     "execution_count": 36,
     "metadata": {},
     "output_type": "execute_result"
    }
   ],
   "source": [
    "import locale\n",
    "locale.setlocale( locale.LC_ALL, 'EN-gb' )\n",
    "def rub(x):\n",
    "    return locale.format_string('%g',val=x,grouping=True)+' rub'\n",
    "\n",
    "rub(123456)"
   ]
  }
 ],
 "metadata": {
  "kernelspec": {
   "display_name": "Python 3",
   "language": "python",
   "name": "python3"
  },
  "language_info": {
   "codemirror_mode": {
    "name": "ipython",
    "version": 3
   },
   "file_extension": ".py",
   "mimetype": "text/x-python",
   "name": "python",
   "nbconvert_exporter": "python",
   "pygments_lexer": "ipython3",
   "version": "3.8.8"
  }
 },
 "nbformat": 4,
 "nbformat_minor": 5
}
